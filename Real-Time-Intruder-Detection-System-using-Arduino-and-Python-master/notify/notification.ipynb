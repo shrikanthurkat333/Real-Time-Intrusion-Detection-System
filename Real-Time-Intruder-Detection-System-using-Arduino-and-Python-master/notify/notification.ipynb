{
 "cells": [
  {
   "cell_type": "code",
   "execution_count": 1,
   "id": "8b8dc5b4",
   "metadata": {},
   "outputs": [],
   "source": [
    "from pushbullet import Pushbullet"
   ]
  },
  {
   "cell_type": "code",
   "execution_count": 2,
   "id": "645e74b5",
   "metadata": {},
   "outputs": [],
   "source": [
    "API_KEY = \"o.QLICL6EDs86MVmUT2c0u8E8X0wxncQ8x\"\n",
    "file=\"message.txt\""
   ]
  },
  {
   "cell_type": "code",
   "execution_count": 3,
   "id": "31c96405",
   "metadata": {},
   "outputs": [],
   "source": [
    "with open(file,mode='r') as f:\n",
    "    text=f.read()"
   ]
  },
  {
   "cell_type": "code",
   "execution_count": 4,
   "id": "72cebea2",
   "metadata": {},
   "outputs": [
    {
     "ename": "PushError",
     "evalue": "{\"error\":{\"code\":\"invalid_request\",\"type\":\"invalid_request\",\"message\":\"Account has not been used for over a month.\",\"cat\":\"(=ｘェｘ=)\"},\"error_code\":\"invalid_request\"}",
     "output_type": "error",
     "traceback": [
      "\u001b[1;31m---------------------------------------------------------------------------\u001b[0m",
      "\u001b[1;31mPushError\u001b[0m                                 Traceback (most recent call last)",
      "\u001b[1;32mc:\\Users\\Shrikant\\Desktop\\New folder (2)\\Real-Time-Intruder-Detection-System-using-Arduino-and-Python-master\\notify\\notification.ipynb Cell 4\u001b[0m line \u001b[0;36m<cell line: 2>\u001b[1;34m()\u001b[0m\n\u001b[0;32m      <a href='vscode-notebook-cell:/c%3A/Users/Shrikant/Desktop/New%20folder%20%282%29/Real-Time-Intruder-Detection-System-using-Arduino-and-Python-master/notify/notification.ipynb#W3sZmlsZQ%3D%3D?line=0'>1</a>\u001b[0m pb\u001b[39m=\u001b[39mPushbullet(API_KEY)\n\u001b[1;32m----> <a href='vscode-notebook-cell:/c%3A/Users/Shrikant/Desktop/New%20folder%20%282%29/Real-Time-Intruder-Detection-System-using-Arduino-and-Python-master/notify/notification.ipynb#W3sZmlsZQ%3D%3D?line=1'>2</a>\u001b[0m push\u001b[39m=\u001b[39mpb\u001b[39m.\u001b[39;49mpush_note(\u001b[39m'\u001b[39;49m\u001b[39mAlert!! Unknown Enrty\u001b[39;49m\u001b[39m'\u001b[39;49m,text)\n",
      "File \u001b[1;32mc:\\Users\\Shrikant\\AppData\\Local\\Programs\\Python\\Python310\\lib\\site-packages\\pushbullet\\pushbullet.py:263\u001b[0m, in \u001b[0;36mPushbullet.push_note\u001b[1;34m(self, title, body, device, chat, email, channel)\u001b[0m\n\u001b[0;32m    261\u001b[0m data \u001b[39m=\u001b[39m {\u001b[39m\"\u001b[39m\u001b[39mtype\u001b[39m\u001b[39m\"\u001b[39m: \u001b[39m\"\u001b[39m\u001b[39mnote\u001b[39m\u001b[39m\"\u001b[39m, \u001b[39m\"\u001b[39m\u001b[39mtitle\u001b[39m\u001b[39m\"\u001b[39m: title, \u001b[39m\"\u001b[39m\u001b[39mbody\u001b[39m\u001b[39m\"\u001b[39m: body}\n\u001b[0;32m    262\u001b[0m data\u001b[39m.\u001b[39mupdate(Pushbullet\u001b[39m.\u001b[39m_recipient(device, chat, email, channel))\n\u001b[1;32m--> 263\u001b[0m \u001b[39mreturn\u001b[39;00m \u001b[39mself\u001b[39;49m\u001b[39m.\u001b[39;49m_push(data)\n",
      "File \u001b[1;32mc:\\Users\\Shrikant\\AppData\\Local\\Programs\\Python\\Python310\\lib\\site-packages\\pushbullet\\pushbullet.py:282\u001b[0m, in \u001b[0;36mPushbullet._push\u001b[1;34m(self, data)\u001b[0m\n\u001b[0;32m    280\u001b[0m     \u001b[39mreturn\u001b[39;00m js\n\u001b[0;32m    281\u001b[0m \u001b[39melse\u001b[39;00m:\n\u001b[1;32m--> 282\u001b[0m     \u001b[39mraise\u001b[39;00m PushError(r\u001b[39m.\u001b[39mtext)\n",
      "\u001b[1;31mPushError\u001b[0m: {\"error\":{\"code\":\"invalid_request\",\"type\":\"invalid_request\",\"message\":\"Account has not been used for over a month.\",\"cat\":\"(=ｘェｘ=)\"},\"error_code\":\"invalid_request\"}"
     ]
    }
   ],
   "source": [
    "pb=Pushbullet(API_KEY)\n",
    "push=pb.push_note('Alert!! Unknown Enrty',text)"
   ]
  },
  {
   "cell_type": "code",
   "execution_count": null,
   "id": "7b72027d",
   "metadata": {},
   "outputs": [],
   "source": []
  }
 ],
 "metadata": {
  "kernelspec": {
   "display_name": "Python 3 (ipykernel)",
   "language": "python",
   "name": "python3"
  },
  "language_info": {
   "codemirror_mode": {
    "name": "ipython",
    "version": 3
   },
   "file_extension": ".py",
   "mimetype": "text/x-python",
   "name": "python",
   "nbconvert_exporter": "python",
   "pygments_lexer": "ipython3",
   "version": "3.10.4"
  }
 },
 "nbformat": 4,
 "nbformat_minor": 5
}
